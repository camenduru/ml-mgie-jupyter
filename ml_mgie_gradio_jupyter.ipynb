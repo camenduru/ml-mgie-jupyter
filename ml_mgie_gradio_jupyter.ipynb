{
  "cells": [
    {
      "cell_type": "markdown",
      "metadata": {
        "id": "view-in-github"
      },
      "source": [
        "[![Open In Colab](https://colab.research.google.com/assets/colab-badge.svg)](https://colab.research.google.com/github/camenduru/ml-mgie-jupyter/blob/main/ml_mgie_gradio_jupyter.ipynb)"
      ]
    },
    {
      "cell_type": "code",
      "execution_count": null,
      "metadata": {
        "id": "VjYy0F2gZIPR"
      },
      "outputs": [],
      "source": [
        "%cd /content\n",
        "!git clone -b dev https://github.com/camenduru/ml-mgie-hf\n",
        "%cd /content/ml-mgie-hf\n",
        "\n",
        "!pip install -q -r pre-requirements.txt\n",
        "\n",
        "!apt -y install -qq aria2\n",
        "!aria2c --console-log-level=error -c -x 16 -s 16 -k 1M https://huggingface.co/camenduru/pytorch_mgie/resolve/main/llava-7b-v1.tar.gz -d /content/ml-mgie-hf/data -o llava-7b-v1.tar.gz\n",
        "!aria2c --console-log-level=error -c -x 16 -s 16 -k 1M https://huggingface.co/camenduru/pytorch_mgie/resolve/main/mgie_7b.tar.gz -d /content/ml-mgie-hf/data -o mgie_7b.tar.gz\n",
        "\n",
        "%cd /content/ml-mgie-hf/data\n",
        "!tar -xzf mgie_7b.tar.gz\n",
        "!tar -xzf llava-7b-v1.tar.gz\n",
        "\n",
        "%cd /content/ml-mgie-hf\n",
        "!python app.py"
      ]
    }
  ],
  "metadata": {
    "accelerator": "GPU",
    "colab": {
      "gpuType": "T4",
      "provenance": []
    },
    "kernelspec": {
      "display_name": "Python 3",
      "name": "python3"
    },
    "language_info": {
      "name": "python"
    }
  },
  "nbformat": 4,
  "nbformat_minor": 0
}
